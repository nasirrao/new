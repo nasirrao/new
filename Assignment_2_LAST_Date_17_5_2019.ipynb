{
 "cells": [
  {
   "cell_type": "markdown",
   "metadata": {},
   "source": [
    "# The ABC company has hired you as an intern on the coding team that creates e-commerce applications.  \n",
    "You must write a script that asks the user for a value. The value must be used as a whole number in a calculation, even if the user enters a decimal value. \n",
    "\n",
    "You need to write the code to meet the requirements."
   ]
  },
  {
   "cell_type": "code",
   "execution_count": 20,
   "metadata": {},
   "outputs": [
    {
     "name": "stdout",
     "output_type": "stream",
     "text": [
      "\t Welcome To My Project \n",
      "\t Nasir Jamil \n",
      "Enter Whole Number :  4.4\n",
      "Squair Of Your Input :  4.44.4\n"
     ]
    }
   ],
   "source": [
    "print(\"\\t Welcome To My Project \")\n",
    "print(\"\\t Nasir Jamil \")\n",
    "\n",
    "input1 = input(\"Enter Whole Number :  \")\n",
    "result = input1*2 \n",
    "print(\"Squair Of Your Input : \" , result)"
   ]
  },
  {
   "cell_type": "code",
   "execution_count": null,
   "metadata": {},
   "outputs": [],
   "source": []
  },
  {
   "cell_type": "markdown",
   "metadata": {},
   "source": [
    "# You are creating a Python program that shows a congratulation message to employees on their service anniversary.\n",
    "You need to calculate the number of years of service and print a congratulatory message. You should take the inputs from the users where necessary"
   ]
  },
  {
   "cell_type": "code",
   "execution_count": 49,
   "metadata": {},
   "outputs": [
    {
     "name": "stdout",
     "output_type": "stream",
     "text": [
      "\t Welcome To My Project \n",
      "\t Nasir Jamil \n",
      "Enter Your Name : trtr\n",
      "input Years : 55\n",
      "Congratulation Today Is YOur Anniversary\n"
     ]
    }
   ],
   "source": [
    "print(\"\\t Welcome To My Project \")\n",
    "print(\"\\t Nasir Jamil \")\n",
    "\n",
    "empname = input(\"Enter Your Name : \")\n",
    "empyear = int(input(\"input Years : \"))\n",
    "if empyear >= 10:\n",
    "    print(\"Congratulation Today Is YOur Anniversary\")\n",
    "else:\n",
    "    print(\"Sorry You Have To Wait More\")"
   ]
  },
  {
   "cell_type": "code",
   "execution_count": null,
   "metadata": {},
   "outputs": [],
   "source": []
  },
  {
   "cell_type": "code",
   "execution_count": null,
   "metadata": {},
   "outputs": [],
   "source": []
  },
  {
   "cell_type": "markdown",
   "metadata": {},
   "source": [
    "# Write a Python program to convert temperatures  from fahrenheit to celsius, \n",
    "#step 1: take \"fahrenheit Temperature\" from user in integer data type\n",
    "#step 2: apply formula that is       (  C = (5/9) * (fahrenheit_temperature - 32)  )\n",
    "#step 3: print step 2. "
   ]
  },
  {
   "cell_type": "code",
   "execution_count": 1,
   "metadata": {},
   "outputs": [
    {
     "name": "stdout",
     "output_type": "stream",
     "text": [
      "Enter farenheit temperature:45\n",
      "Tempreature in celsius Is :  7 c\n"
     ]
    }
   ],
   "source": [
    "farenheit = int(input(\"Enter farenheit temperature:\"))\n",
    "c=round((5/9)*(farenheit-32))\n",
    "print(\"Tempreature in celsius Is : \", int(c),\"c\")"
   ]
  },
  {
   "cell_type": "code",
   "execution_count": null,
   "metadata": {},
   "outputs": [],
   "source": []
  },
  {
   "cell_type": "code",
   "execution_count": null,
   "metadata": {},
   "outputs": [],
   "source": []
  },
  {
   "cell_type": "markdown",
   "metadata": {},
   "source": [
    "<h3>assign a vlue to grade by checking the following conditions:: </h3>\n",
    "<h3>if % is greater then and equal to 90 and less then 100 grade is A+ </h3>\n",
    "<h3>if % is greater then and equal to 80 and less then 90 grade is A </h3>\n",
    "<h3>if % is greater then and equal to 70 and less then 80 grade is B </h3>\n",
    "<h3>if % is greater then and equal to 60 and less then 70 grade is C </h3>\n",
    "<h3>if % is less than 60 grade is FAIL </h3>\n"
   ]
  },
  {
   "cell_type": "code",
   "execution_count": 46,
   "metadata": {},
   "outputs": [
    {
     "name": "stdout",
     "output_type": "stream",
     "text": [
      " GRADE CHECKING \n",
      " Enter Your Name : rao\n",
      "Name :  rao\n",
      "Percentage :  77.2 %\n",
      "Otained Marks :  386\n"
     ]
    }
   ],
   "source": [
    "english=90\n",
    "physics=89\n",
    "chemistry=33\n",
    "urdu=77\n",
    "islamiat=45\n",
    "\n",
    "print(\" GRADE CHECKING \")\n",
    "username = input(\" Enter Your Name : \")\n",
    "\n",
    "obtained_marks=(english+physics+chemistry+urdu+islamiat)\n",
    "percentage=(obtained_marks/500)*100\n",
    "\n",
    "\n",
    "if percentage >= 90 and percentage < 100:\n",
    "    Grade=\"Aone\"\n",
    "if percentage >= 80 and percentage < 90:\n",
    "    Grade=\"A\"\n",
    "if percentage >= 70 and percentage < 80:\n",
    "    Grade=\"B\"\n",
    "if percentage >= 60 and percentage < 70:\n",
    "    Grade=\"C\"\n",
    "if percentage < 60:\n",
    "    Grade=\"F\"\n",
    "    \n",
    "print(\"Name : \",username)\n",
    "print(\"Percentage : \",percentage,\"%\")\n",
    "print(\"Otained Marks : \",obtained_marks)"
   ]
  },
  {
   "cell_type": "code",
   "execution_count": null,
   "metadata": {},
   "outputs": [],
   "source": []
  },
  {
   "cell_type": "code",
   "execution_count": null,
   "metadata": {},
   "outputs": [],
   "source": []
  }
 ],
 "metadata": {
  "kernelspec": {
   "display_name": "Python 3",
   "language": "python",
   "name": "python3"
  },
  "language_info": {
   "codemirror_mode": {
    "name": "ipython",
    "version": 3
   },
   "file_extension": ".py",
   "mimetype": "text/x-python",
   "name": "python",
   "nbconvert_exporter": "python",
   "pygments_lexer": "ipython3",
   "version": "3.7.3"
  }
 },
 "nbformat": 4,
 "nbformat_minor": 2
}
