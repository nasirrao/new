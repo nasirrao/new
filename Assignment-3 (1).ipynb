{
 "cells": [
  {
   "cell_type": "markdown",
   "metadata": {},
   "source": [
    "<h3>Q no 1:  Write a python program to find number of occurrences of given number in a list with out using built-in methods</h3>\n",
    "<h4>**1 generate a list of some random num which is repeated again and again</h4>\n",
    "<h4>**2 take user input any number</h4>\n",
    "<h4>**3 find the number of occurrences of that num in your list</h4>\n",
    "<h4>**4 print some message to user with that result</h4>"
   ]
  },
  {
   "cell_type": "code",
   "execution_count": 3,
   "metadata": {},
   "outputs": [
    {
     "name": "stdout",
     "output_type": "stream",
     "text": [
      "NASIR JAMIL RAO\n",
      "Enter Your Value : 23\n",
      "Your Number has been occured 0\n"
     ]
    }
   ],
   "source": [
    "print(\"NASIR JAMIL RAO\")\n",
    "mylist=[5,10,15,20,2,30,35,40,50]\n",
    "total = 0\n",
    "userinput = input(\"Enter Your Value : \")\n",
    "for i in mylist : \n",
    "    if(userinput==i):\n",
    "         total+=1\n",
    "print(\"Your Number has been occured\",total)"
   ]
  },
  {
   "cell_type": "code",
   "execution_count": null,
   "metadata": {},
   "outputs": [],
   "source": []
  },
  {
   "cell_type": "markdown",
   "metadata": {},
   "source": [
    "<h3>Q no 2:   [\"www.zframez.com\", \"www.wikipedia.org\", \"www.asp.net\", \"www.abcd.in\"]\n",
    "<br/><br/><br/><br/><br/>\n",
    "Write a python program to print website suffixes (com , org , net ,in) from this list\n",
    "\n",
    "Hint : Use split() method to perform this task\n",
    "</h3>\n"
   ]
  },
  {
   "cell_type": "code",
   "execution_count": 4,
   "metadata": {},
   "outputs": [
    {
     "name": "stdout",
     "output_type": "stream",
     "text": [
      "com\n",
      "org\n",
      "net\n",
      "in\n"
     ]
    }
   ],
   "source": [
    "web = [\"www.zframez.com\", \"www.wikipedia.org\", \"www.asp.net\", \"www.abcd.in\"]\n",
    "for i in web:\n",
    "    aftersplit=i.split(\".\")[-1]\n",
    "    print(aftersplit)"
   ]
  },
  {
   "cell_type": "code",
   "execution_count": null,
   "metadata": {},
   "outputs": [],
   "source": []
  },
  {
   "cell_type": "markdown",
   "metadata": {},
   "source": [
    "<h3> Q no 3 : Write a program which can compute the factorial of a given numbers.</h3>\n",
    "<br/>\n",
    "<br/>\n",
    "<h4>**1 first take user input any number</h4>\n",
    "<h4>**2 calculate factorial of that input and then print the result to user</h4>"
   ]
  },
  {
   "cell_type": "code",
   "execution_count": 7,
   "metadata": {},
   "outputs": [
    {
     "name": "stdout",
     "output_type": "stream",
     "text": [
      "Enter Your Factorial Value : 4\n",
      "Factorial of  4  =  24\n"
     ]
    }
   ],
   "source": [
    "user = int(input(\"Enter Your Factorial Value : \"))\n",
    "factorial=1\n",
    "if user<0:\n",
    "    print(\"not possible\")\n",
    "elif user==0:\n",
    "    print(\"Factorial of zero is 1\")\n",
    "else:\n",
    "    for i in range(1,user+1):\n",
    "        factorial = factorial*i\n",
    "    print(\"Factorial of \",user,\" = \",factorial)"
   ]
  },
  {
   "cell_type": "code",
   "execution_count": null,
   "metadata": {},
   "outputs": [],
   "source": []
  },
  {
   "cell_type": "code",
   "execution_count": null,
   "metadata": {},
   "outputs": [],
   "source": []
  },
  {
   "cell_type": "code",
   "execution_count": null,
   "metadata": {},
   "outputs": [],
   "source": []
  },
  {
   "cell_type": "markdown",
   "metadata": {},
   "source": [
    "<h3>Q 4 (a) :  If you could invite anyone, living or deceased, to dinner, who\n",
    "would you invite? Make a list that includes at least three people you’d like to\n",
    "invite to dinner. Then use your list to print a message to each person, inviting\n",
    "them to dinner.</h3>"
   ]
  },
  {
   "cell_type": "code",
   "execution_count": 8,
   "metadata": {},
   "outputs": [
    {
     "name": "stdout",
     "output_type": "stream",
     "text": [
      "Nasir ,I invite you on dinner \n",
      "Hamza ,I invite you on dinner \n",
      "Khubaib ,I invite you on dinner \n"
     ]
    }
   ],
   "source": [
    "mylist = ['Nasir','Hamza','Khubaib']\n",
    "for x in mylist:\n",
    "    print(x,\",I invite you on dinner \")"
   ]
  },
  {
   "cell_type": "code",
   "execution_count": null,
   "metadata": {},
   "outputs": [],
   "source": []
  },
  {
   "cell_type": "code",
   "execution_count": null,
   "metadata": {},
   "outputs": [],
   "source": []
  },
  {
   "cell_type": "markdown",
   "metadata": {},
   "source": [
    "<h3>Q 4 (b) : You just heard that one of your guests can’t make the\n",
    "dinner, so you need to send out a new set of invitations. You’ll have to think of\n",
    "someone else to invite.<br/></br><br/>\n",
    "•\t Start with your program from Q 4 (a). Add a print statement at the\n",
    "end of your program stating the name of the guest who can’t make it.<br/></br><br/>\n",
    "•\t Modify your list, replacing the name of the guest who can’t make it with\n",
    "the name of the new person you are inviting.<br/></br><br/>\n",
    "•\t Print a second set of invitation messages, one for each person who is still\n",
    "in your list.<br/></br><br/></h3>"
   ]
  },
  {
   "cell_type": "code",
   "execution_count": 20,
   "metadata": {},
   "outputs": [
    {
     "name": "stdout",
     "output_type": "stream",
     "text": [
      "Nasir  Cannot make dinner\n",
      "Taha ,I invite you on dinner \n",
      "Usama ,I invite you on dinner \n",
      "Khubaib ,I invite you on dinner \n"
     ]
    }
   ],
   "source": [
    "print(mylist[0],\" Cannot make dinner\")\n",
    "mylist[mylist.index(\"Nasir\")]= \"Taha\"\n",
    "for x in mylist:\n",
    "    print(x,\",I invite you on dinner \")"
   ]
  },
  {
   "cell_type": "code",
   "execution_count": null,
   "metadata": {},
   "outputs": [],
   "source": []
  },
  {
   "cell_type": "code",
   "execution_count": null,
   "metadata": {},
   "outputs": [],
   "source": []
  },
  {
   "cell_type": "markdown",
   "metadata": {},
   "source": [
    "<h3>Q 4 (c) : You just found a bigger dinner table, so now more space is\n",
    "available. Think of three more guests to invite to dinner.<br/></br><br/>\n",
    "•\t Start with your program from Q 4 (a) and (b) Add a print\n",
    "statement to the end of your program informing people that you found a\n",
    "bigger dinner table.<br/></br><br/>\n",
    "•\t Use insert() to add one new guest to the beginning of your list.<br/></br><br/>\n",
    "•\t Use insert() to add one new guest to the middle of your list.<br/></br><br/>\n",
    "•\t Use append() to add one new guest to the end of your list.<br/></br><br/>\n",
    "•\t Print a new set of invitation messages, one for each person in your list.<br/></br><br/></h3>"
   ]
  },
  {
   "cell_type": "code",
   "execution_count": 21,
   "metadata": {},
   "outputs": [
    {
     "name": "stdout",
     "output_type": "stream",
     "text": [
      "Taha , I found a bigger dinner table\n",
      "Usama , I found a bigger dinner table\n",
      "Khubaib , I found a bigger dinner table\n"
     ]
    }
   ],
   "source": [
    "for x in mylist:\n",
    "    print(x,\", I found a bigger dinner table\")"
   ]
  },
  {
   "cell_type": "code",
   "execution_count": 31,
   "metadata": {},
   "outputs": [],
   "source": [
    "mylist.insert(0,'Zaryab Khan')\n",
    "mylist.insert(2,'Humaiyo Ali')\n",
    "mylist.append('Faisal Pagal')"
   ]
  },
  {
   "cell_type": "code",
   "execution_count": 32,
   "metadata": {},
   "outputs": [
    {
     "name": "stdout",
     "output_type": "stream",
     "text": [
      "Zaryab Khan , I found a bigger dinner table\n",
      "Zaryab Khan , I found a bigger dinner table\n",
      "Humaiyo Ali , I found a bigger dinner table\n",
      "Zaryab , I found a bigger dinner table\n",
      "Humaiyo , I found a bigger dinner table\n",
      "Zaryab , I found a bigger dinner table\n",
      "Humaiyo , I found a bigger dinner table\n",
      "Humaiyo , I found a bigger dinner table\n",
      "Zaryab , I found a bigger dinner table\n",
      "Zaryab , I found a bigger dinner table\n",
      "Humaiyo , I found a bigger dinner table\n",
      "Taha , I found a bigger dinner table\n",
      "Humaiyo , I found a bigger dinner table\n",
      "Usama , I found a bigger dinner table\n",
      "Khubaib , I found a bigger dinner table\n",
      "Faisal , I found a bigger dinner table\n",
      "Faisal , I found a bigger dinner table\n",
      "Faisal , I found a bigger dinner table\n",
      "Faisal , I found a bigger dinner table\n",
      "Faisal Pagal , I found a bigger dinner table\n"
     ]
    }
   ],
   "source": [
    "for x in mylist:\n",
    "    print(x,\", I found a bigger dinner table\")"
   ]
  },
  {
   "cell_type": "markdown",
   "metadata": {},
   "source": [
    "<h5> Q 5 : Here you have some data in variable below, your task is to make a list of specific word Surah then print the list and length of list</h5>\n"
   ]
  },
  {
   "cell_type": "code",
   "execution_count": 33,
   "metadata": {},
   "outputs": [
    {
     "data": {
      "text/plain": [
       "['Surah',\n",
       " 'I',\n",
       " 'Who',\n",
       " 'believe',\n",
       " 'in',\n",
       " 'the',\n",
       " 'Unseen,',\n",
       " 'Surah',\n",
       " 'Are',\n",
       " 'steadfast',\n",
       " 'in',\n",
       " 'prayer,',\n",
       " 'And',\n",
       " 'spend',\n",
       " 'Surah',\n",
       " 'out',\n",
       " 'of',\n",
       " 'what',\n",
       " 'We',\n",
       " 'Have',\n",
       " 'provided',\n",
       " 'for',\n",
       " 'them;\"']"
      ]
     },
     "execution_count": 33,
     "metadata": {},
     "output_type": "execute_result"
    }
   ],
   "source": [
    "surah = 'Surah I Who believe in the Unseen, Surah Are steadfast in prayer, And spend Surah out of what We Have provided for them;\"'\n",
    "surah = surah.split(\" \")\n",
    "surah"
   ]
  },
  {
   "cell_type": "code",
   "execution_count": 35,
   "metadata": {},
   "outputs": [
    {
     "name": "stdout",
     "output_type": "stream",
     "text": [
      "['Surah', 'Surah', 'Surah']\n",
      "The word  Surah  appears  3  times in the given sentence.\n"
     ]
    }
   ],
   "source": [
    "newlist = []\n",
    "for i in surah:\n",
    "    if i == 'Surah':\n",
    "        newlist.append(i)\n",
    "print(newlist)\n",
    "print(\"The word \",newlist[0],\" appears \",len(newlist),\" times in the given sentence.\")\n"
   ]
  },
  {
   "cell_type": "markdown",
   "metadata": {},
   "source": [
    " <h3>Q no 6 : You have some name of cities in list named cities, Your task is to check whether Karachi is present in this list or not, if present print the index where the value Karachi is present</h3>"
   ]
  },
  {
   "cell_type": "code",
   "execution_count": 37,
   "metadata": {},
   "outputs": [
    {
     "name": "stdout",
     "output_type": "stream",
     "text": [
      "Index value of Lahore is : 3\n"
     ]
    }
   ],
   "source": [
    "cities = ['Mirpurkhas','Hyderaabad','karachi','Lahore','Multan','Umerkot']\n",
    "for i in cities:\n",
    "    if (i =='lahore'):\n",
    "        print(\"Lahore is present in list\")\n",
    "print(\"Index value of Lahore is :\",cities.index('Lahore'))"
   ]
  },
  {
   "cell_type": "code",
   "execution_count": null,
   "metadata": {},
   "outputs": [],
   "source": []
  },
  {
   "cell_type": "code",
   "execution_count": null,
   "metadata": {},
   "outputs": [],
   "source": []
  }
 ],
 "metadata": {
  "kernelspec": {
   "display_name": "Python 3",
   "language": "python",
   "name": "python3"
  },
  "language_info": {
   "codemirror_mode": {
    "name": "ipython",
    "version": 3
   },
   "file_extension": ".py",
   "mimetype": "text/x-python",
   "name": "python",
   "nbconvert_exporter": "python",
   "pygments_lexer": "ipython3",
   "version": "3.7.3"
  }
 },
 "nbformat": 4,
 "nbformat_minor": 2
}
